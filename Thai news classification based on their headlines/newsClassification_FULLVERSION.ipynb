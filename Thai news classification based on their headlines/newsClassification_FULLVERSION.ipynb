{
 "cells": [
  {
   "cell_type": "markdown",
   "metadata": {},
   "source": [
    "# Thai news classification based on their headlines\n",
    "# AI จัดหมวดหมู่ข่าวไทยโดยใช้การพาดหัวข่าว\n",
    "## by Wisarut Duangmorakot - wisarut.bank@gmail.com"
   ]
  },
  {
   "cell_type": "markdown",
   "metadata": {},
   "source": [
    "- Dataset ข่าวตั้งแต่ปี พ.ศ. 2556 - พ.ศ.2561 ทั้งสิ้นกว่า 300,000+ ข่าว ซึ่งได้มาจากการเขียน Script ดึงข้อมูลจากเว็บไซต์ข่าวสำนักนึงของไทย ทำให้ไม่สามารถเปิดเผยข้อมูลได้ โดยได้นำหัวข้อข่าวหลักๆทั้งหมด 6 หมวดหมู่คือ <b> การเมือง, อาชญากรรม, ข่าวเศรษฐกิจ, ข่าวบันเทิง, ข่าวไอที และ ข่าวกีฬา </b> เป็นจำนวนทั้งสิ้น 200,000+ หัวข้อข่าว\n",
    "- Dataset จะอยู่ในรูปแบบของ text file แบ่งแยกเป็นโฟลเดอร์ตามหมวดหมู่ของข่าว มีหัวข้อของข่าวอยู่ข้างในไฟล์\n",
    "- เราจะทำการจัดหมวดหมู่ข่าวโดยใช้การพาดหัวข่าว โดยจัดเป็น ทั้ง 6 หมวดหมู่\n",
    "- เน้นการนำเสนอประโยชน์ของการนำ AI ไปใช้งานจริง ไม่เน้นประสิทธิภาพ ซึ่งสามารถพัฒนาและ tune ให้ดีขึ้นได้ในภายหลังหากต้องการนำไปใช้จริง"
   ]
  },
  {
   "cell_type": "markdown",
   "metadata": {},
   "source": [
    "### Import libraries"
   ]
  },
  {
   "cell_type": "code",
   "execution_count": 1,
   "metadata": {
    "collapsed": true
   },
   "outputs": [],
   "source": [
    "import os #ใช้ในการเปิดไฟล์ทั้งหมดใน Directory ขึ้นมาอ่าน\n",
    "from pythainlp import word_tokenize #ใช้ pythainlp ช่วยตัดคำภาษาไทย เช่น ฉันกำลังขึ้นรถไฟ -> 'ฉัน','กำลัง','ขึ้น','รถไฟ'\n",
    "from sklearn.metrics import accuracy_score # ใช้เพื่อเพื่อวัดประสิทธิความแม่นยำของโมเดล\n",
    "from sklearn.metrics import confusion_matrix # ใช้เพื่อเพื่อวัดประสิทธิภาพโมเดล\n",
    "import re #ใช้ในการกำจัดตัวอักษรหรือคำที่ไม่ต้องการออกไป"
   ]
  },
  {
   "cell_type": "markdown",
   "metadata": {},
   "source": [
    "### Import data"
   ]
  },
  {
   "cell_type": "code",
   "execution_count": 3,
   "metadata": {},
   "outputs": [
    {
     "name": "stdout",
     "output_type": "stream",
     "text": [
      "politics:  60568 ex : มอบ​​สม​ช.​รวบ​รวม​ข้อมูล​ชง​​เลิก​พ.ร.ก.​ฉุกเฉิน​\n",
      "crime:  31852 ex : 'บิ๊กแป๊ะ'อ้างติดประชุมแจง'บิ๊กตู่-บิ๊กป้อม'ชวดจับพระดัง\n",
      "economy:  31473 ex : ตลาดรับสร้างบ้านปี57หด\n",
      "entertain:  24934 ex : พชร์ปรี๊ดด่ายับตลกหญิงพวกลืมกำพืดตัวเอง\n",
      "IT:  10295 ex : จันทร์นี้กสท.พิจารณาจัดลำดับวันประมูลคลื่นความถี่ทีวีดิจิทัล\n",
      "sports:  67790 ex : ไทเกอร์หายไม่ทันหวดยูเอสโอเพ่น\n",
      "total:  226912\n"
     ]
    }
   ],
   "source": [
    "news = []\n",
    "\n",
    "politics = 0\n",
    "sports = 0\n",
    "crime = 0\n",
    "economy = 0\n",
    "entertain = 0\n",
    "health = 0\n",
    "IT = 0\n",
    "\n",
    "path = './politics/'\n",
    "for filename in os.listdir(path): # เปิดไฟล์ทุกไฟล์ในโฟลเดอร์ politics\n",
    "    f = open(path+filename,'r') # เปิดไฟล์ด้วยโหมดอ่าน\n",
    "    text = f.read()\n",
    "    text = text.replace(' ','') # ลบเว้นวรรคออกจากพาดหัวข่าว\n",
    "    text = text.replace('\"','')\n",
    "    news.append(text)\n",
    "    f.close()\n",
    "    politics += 1\n",
    " \n",
    "print (\"politics: \",politics,\"ex :\", text)\n",
    "    \n",
    "path = './crime/'\n",
    "for filename in os.listdir(path):\n",
    "    f = open(path+filename,'r') \n",
    "    text = f.read()\n",
    "    text = text.replace(' ','')\n",
    "    text = text.replace('\"','')\n",
    "    news.append(text)\n",
    "    f.close()\n",
    "    crime += 1\n",
    "    \n",
    "print (\"crime: \",crime,\"ex :\", text)\n",
    "    \n",
    "path = './economy/'\n",
    "for filename in os.listdir(path):\n",
    "    f = open(path+filename,'r') \n",
    "    text = f.read()\n",
    "    text = text.replace(' ','')\n",
    "    text = text.replace('\"','')\n",
    "    news.append(text)\n",
    "    f.close()\n",
    "    economy += 1\n",
    "    \n",
    "print (\"economy: \",economy,\"ex :\", text)\n",
    "    \n",
    "    \n",
    "path = './entertain/'\n",
    "for filename in os.listdir(path):\n",
    "    f = open(path+filename,'r') \n",
    "    text = f.read()\n",
    "    text = text.replace(' ','')\n",
    "    text = text.replace('\"','')\n",
    "    news.append(text)\n",
    "    f.close()\n",
    "    entertain += 1\n",
    "    \n",
    "print (\"entertain: \",entertain,\"ex :\", text)\n",
    "    \n",
    "path = './IT/'\n",
    "for filename in os.listdir(path):\n",
    "    f = open(path+filename,'r') \n",
    "    text = f.read()\n",
    "    text = text.replace(' ','')\n",
    "    text = text.replace('\"','')\n",
    "    news.append(text)\n",
    "    f.close()\n",
    "    IT += 1\n",
    "    \n",
    "print (\"IT: \",IT,\"ex :\", text)\n",
    "    \n",
    "path = './sports/'\n",
    "for filename in os.listdir(path):\n",
    "    f = open(path+filename,'r') \n",
    "    text = f.read()\n",
    "    text = text.replace(' ','')\n",
    "    text = text.replace('\"','')\n",
    "    news.append(text)\n",
    "    f.close()\n",
    "    sports += 1\n",
    "\n",
    "print (\"sports: \",sports,\"ex :\", text)\n",
    "\n",
    "print (\"total: \", sports+IT+health+entertain+economy+crime+politics)"
   ]
  },
  {
   "cell_type": "markdown",
   "metadata": {},
   "source": [
    "<b> Datasets ประกอบไปด้วย </b>\n",
    "1. ข่าวการเมือง 60568 ข่าว\n",
    "2. ข่าวอาชญากรรม 31852 ข่าว\n",
    "3. ข่าวเศรษฐกิจ ข่าว 31473 ข่าว\n",
    "4. ข่าวบันเทิง 24934 ข่าว\n",
    "5. ข่าวไอที 10295 ข่าว\n",
    "6. ข่าวกีฬา 67790 ข่าว<br>\n",
    "<b>รวมมีทั้งสิ้น 226,912 พาดหัวข่าว<b>"
   ]
  },
  {
   "cell_type": "markdown",
   "metadata": {},
   "source": [
    "### Features Extraction"
   ]
  },
  {
   "cell_type": "code",
   "execution_count": 4,
   "metadata": {
    "collapsed": true
   },
   "outputs": [],
   "source": [
    "REPLACE_NO_SPACE = re.compile(\"(\\-)|(0)|(1)|(2)|(3)|(4)|(5)|(6)|(7)|(8)|(9)|(&quot;)|(\\”)|(\\\")|(\\“)|(\\;)|(\\:)|(\\!)|(\\')|(\\?)|(\\,)|(\\\")|(\\()|(\\))|(\\[)|(\\])\")\n",
    "REPLACE_WITH_SPACE = re.compile(\"(<br\\s*/><br\\s*/>)|(\\/)\")\n",
    "\n",
    "def preprocess_reviews(reviews):\n",
    "    reviews = [REPLACE_NO_SPACE.sub(\"\", line.lower()) for line in reviews]\n",
    "    reviews = [REPLACE_WITH_SPACE.sub(\" \", line) for line in reviews]\n",
    "    \n",
    "    return reviews\n",
    "\n",
    "news_pre = preprocess_reviews(news) # เอาสัญลักษณ์ที่ไม่เกี่ยวข้องในการ analysis ออก\n",
    "\n",
    "\n",
    "train = []\n",
    "\n",
    "for i in range(len(news_pre)):\n",
    "    proc = word_tokenize(news[i], engine='newmm') #ใช้ตัดคำภาษาไทย เช่น ฉันกำลังขึ้นรถไฟ -> 'ฉัน','กำลัง','ขึ้น','รถไฟ'\n",
    "    train.append(proc)\n",
    "    \n"
   ]
  },
  {
   "cell_type": "markdown",
   "metadata": {},
   "source": [
    "##### ตัวอย่าง text หลังจากผ่านการทำ Features Extraction"
   ]
  },
  {
   "cell_type": "code",
   "execution_count": 5,
   "metadata": {},
   "outputs": [
    {
     "data": {
      "text/plain": [
       "['ไทเกอร์', 'หาย', 'ไม่ทัน', 'หวด', 'ยู', 'เอส', 'โอเพ่น']"
      ]
     },
     "execution_count": 5,
     "metadata": {},
     "output_type": "execute_result"
    }
   ],
   "source": [
    "proc"
   ]
  },
  {
   "cell_type": "markdown",
   "metadata": {},
   "source": [
    "### Matrix of token counts"
   ]
  },
  {
   "cell_type": "code",
   "execution_count": 6,
   "metadata": {
    "collapsed": true
   },
   "outputs": [],
   "source": [
    "from sklearn.feature_extraction.text import CountVectorizer\n",
    "\n",
    "def do_nothing(tokens):\n",
    "    return tokens # เราไม่ใช้ tokenizer ใดๆในการตัดคำ เพราะใช้ pythainlp word_tokeniz แทนแล้ว\n",
    "\n",
    "\n",
    "cv = CountVectorizer(tokenizer=do_nothing, preprocessor=None, lowercase=False)\n",
    "X = cv.fit_transform(train) # apply Countvertorizer to data\n",
    "\n",
    "y = []\n",
    "\n",
    "for i in range(politics):\n",
    "    y.append(0) #label ข่าวการเมืองด้วย 0\n",
    "    \n",
    "for i in range(crime):\n",
    "    y.append(1) #label ข่าวอาชญากรรมด้วย 1\n",
    "    \n",
    "for i in range(economy):\n",
    "    y.append(2) #label ข่าวเศรษฐกิจด้วย 2\n",
    "    \n",
    "for i in range(entertain):\n",
    "    y.append(3) #label ข่าวบันเทิงด้วย 3\n",
    "    \n",
    "for i in range(IT):\n",
    "    y.append(4) #label ข่าวไอทีด้วย 5\n",
    "    \n",
    "for i in range(sports):\n",
    "    y.append(5) #label ข่าวกีฬาด้วย 6"
   ]
  },
  {
   "cell_type": "markdown",
   "metadata": {},
   "source": [
    "เราไม่สามารถเอา text เข้า model classification ได้ทันที จะต้องเปลี่ยนจาก text ให้อยู่ในรูปของเวคเตอร์แทนด้วยการนับจำนวนคำแต่ละคำ ตัวอย่างเช่น เช่น\n",
    "\n",
    "<b>courpus ของ ประโยค</b><br>\n",
    "corpus = [<br>\n",
    "...     'This is the first document.',<br>\n",
    "...     'This document is the second document.',<br>\n",
    "...     'And this is the third one.',<br>\n",
    "...     'Is this the first document?',<br>\n",
    "... ]<br>\n",
    "\n",
    "vectorizer = CountVectorizer()<br>\n",
    "X = vectorizer.fit_transform(corpus)<br>\n",
    "\n",
    "<b>จะได้ list ของคำอยู่ดังนี้</b><br>\n",
    "['and', 'document', 'first', 'is', 'one', 'second', 'the', 'third', 'this']<br>\n",
    "\n",
    "<b>เราสามารถแปลงได้เป็น</b><br>\n",
    "[[0 1 1 1 0 0 1 0 1]<br>\n",
    " [0 2 0 1 0 1 1 0 1]<br>\n",
    " [1 0 0 1 1 0 1 1 1]<br>\n",
    " [0 1 1 1 0 0 1 0 1]]<br>\n",
    " \n",
    " http://scikit-learn.org/stable/modules/generated/sklearn.feature_extraction.text.CountVectorizer.html#sklearn.feature_extraction.text.CountVectorizer.decode"
   ]
  },
  {
   "cell_type": "code",
   "execution_count": 7,
   "metadata": {},
   "outputs": [
    {
     "data": {
      "text/plain": [
       "226912"
      ]
     },
     "execution_count": 7,
     "metadata": {},
     "output_type": "execute_result"
    }
   ],
   "source": [
    "len(train) # dataset ทั้งหมด"
   ]
  },
  {
   "cell_type": "code",
   "execution_count": 8,
   "metadata": {
    "collapsed": true
   },
   "outputs": [],
   "source": [
    "from sklearn.model_selection import train_test_split\n",
    "X_train, X_test, y_train, y_test = train_test_split(X, y, test_size = 0.2, random_state = 42)"
   ]
  },
  {
   "cell_type": "markdown",
   "metadata": {},
   "source": [
    "ใช้ train_test_split เพื่อ random train dataset เพื่อใช้ในการเทรนโมเดล และ test dataset เพื่อใช้ในการวัดผลโมเดล โดยแบ่งเป็น train_set 80% ของ data ทั้งหมด และ test_set 20% โดย data ทั้งหมดเราจะหยิบมาแบบสุ่ม"
   ]
  },
  {
   "cell_type": "markdown",
   "metadata": {},
   "source": [
    "## Modeling"
   ]
  },
  {
   "cell_type": "code",
   "execution_count": 21,
   "metadata": {
    "scrolled": true
   },
   "outputs": [
    {
     "name": "stderr",
     "output_type": "stream",
     "text": [
      "[Parallel(n_jobs=2)]: Using backend ThreadingBackend with 2 concurrent workers.\n"
     ]
    },
    {
     "name": "stdout",
     "output_type": "stream",
     "text": [
      "building tree 1 of 200building tree 2 of 200\n",
      "\n",
      "building tree 3 of 200\n",
      "building tree 4 of 200\n",
      "building tree 5 of 200\n",
      "building tree 6 of 200\n",
      "building tree 7 of 200\n",
      "building tree 8 of 200\n",
      "building tree 9 of 200\n",
      "building tree 10 of 200\n",
      "building tree 11 of 200\n",
      "building tree 12 of 200\n",
      "building tree 13 of 200\n",
      "building tree 14 of 200\n",
      "building tree 15 of 200\n",
      "building tree 16 of 200\n",
      "building tree 17 of 200\n",
      "building tree 18 of 200\n",
      "building tree 19 of 200\n",
      "building tree 20 of 200\n",
      "building tree 21 of 200\n",
      "building tree 22 of 200\n",
      "building tree 23 of 200\n",
      "building tree 24 of 200\n",
      "building tree 25 of 200\n",
      "building tree 26 of 200\n",
      "building tree 27 of 200\n",
      "building tree 28 of 200\n",
      "building tree 29 of 200\n",
      "building tree 30 of 200\n",
      "building tree 31 of 200\n",
      "building tree 32 of 200\n",
      "building tree 33 of 200\n",
      "building tree 34 of 200\n",
      "building tree 35 of 200\n",
      "building tree 36 of 200\n",
      "building tree 37 of 200\n",
      "building tree 38 of 200\n",
      "building tree 39 of 200\n"
     ]
    },
    {
     "name": "stderr",
     "output_type": "stream",
     "text": [
      "[Parallel(n_jobs=2)]: Done  37 tasks      | elapsed:  2.7min\n"
     ]
    },
    {
     "name": "stdout",
     "output_type": "stream",
     "text": [
      "building tree 40 of 200\n",
      "building tree 41 of 200\n",
      "building tree 42 of 200\n",
      "building tree 43 of 200\n",
      "building tree 44 of 200\n",
      "building tree 45 of 200\n",
      "building tree 46 of 200\n",
      "building tree 47 of 200\n",
      "building tree 48 of 200\n",
      "building tree 49 of 200\n",
      "building tree 50 of 200\n",
      "building tree 51 of 200\n",
      "building tree 52 of 200\n",
      "building tree 53 of 200\n",
      "building tree 54 of 200\n",
      "building tree 55 of 200\n",
      "building tree 56 of 200\n",
      "building tree 57 of 200\n",
      "building tree 58 of 200\n",
      "building tree 59 of 200\n",
      "building tree 60 of 200\n",
      "building tree 61 of 200\n",
      "building tree 62 of 200\n",
      "building tree 63 of 200\n",
      "building tree 64 of 200\n",
      "building tree 65 of 200\n",
      "building tree 66 of 200\n",
      "building tree 67 of 200\n",
      "building tree 68 of 200\n",
      "building tree 69 of 200\n",
      "building tree 70 of 200\n",
      "building tree 71 of 200\n",
      "building tree 72 of 200\n",
      "building tree 73 of 200\n",
      "building tree 74 of 200\n",
      "building tree 75 of 200\n",
      "building tree 76 of 200\n",
      "building tree 77 of 200\n",
      "building tree 78 of 200\n",
      "building tree 79 of 200\n",
      "building tree 80 of 200\n",
      "building tree 81 of 200\n",
      "building tree 82 of 200\n",
      "building tree 83 of 200\n",
      "building tree 84 of 200\n",
      "building tree 85 of 200\n",
      "building tree 86 of 200\n",
      "building tree 87 of 200\n",
      "building tree 88 of 200\n",
      "building tree 89 of 200\n",
      "building tree 90 of 200\n",
      "building tree 91 of 200\n",
      "building tree 92 of 200\n",
      "building tree 93 of 200\n",
      "building tree 94 of 200\n",
      "building tree 95 of 200\n",
      "building tree 96 of 200\n",
      "building tree 97 of 200\n",
      "building tree 98 of 200\n",
      "building tree 99 of 200\n",
      "building tree 100 of 200\n",
      "building tree 101 of 200\n",
      "building tree 102 of 200\n",
      "building tree 103 of 200\n",
      "building tree 104 of 200\n",
      "building tree 105 of 200\n",
      "building tree 106 of 200\n",
      "building tree 107 of 200\n",
      "building tree 108 of 200\n",
      "building tree 109 of 200\n",
      "building tree 110 of 200\n",
      "building tree 111 of 200\n",
      "building tree 112 of 200\n",
      "building tree 113 of 200\n",
      "building tree 114 of 200\n",
      "building tree 115 of 200\n",
      "building tree 116 of 200\n",
      "building tree 117 of 200\n",
      "building tree 118 of 200\n",
      "building tree 119 of 200\n",
      "building tree 120 of 200\n",
      "building tree 121 of 200\n",
      "building tree 122 of 200\n",
      "building tree 123 of 200\n",
      "building tree 124 of 200\n",
      "building tree 125 of 200\n",
      "building tree 126 of 200\n",
      "building tree 127 of 200\n",
      "building tree 128 of 200\n",
      "building tree 129 of 200\n",
      "building tree 130 of 200\n",
      "building tree 131 of 200\n",
      "building tree 132 of 200\n",
      "building tree 133 of 200\n",
      "building tree 134 of 200\n",
      "building tree 135 of 200\n",
      "building tree 136 of 200\n",
      "building tree 137 of 200\n",
      "building tree 138 of 200\n",
      "building tree 139 of 200\n",
      "building tree 140 of 200\n",
      "building tree 141 of 200\n",
      "building tree 142 of 200\n",
      "building tree 143 of 200\n",
      "building tree 144 of 200\n",
      "building tree 145 of 200\n",
      "building tree 146 of 200\n",
      "building tree 147 of 200\n",
      "building tree 148 of 200\n",
      "building tree 149 of 200\n",
      "building tree 150 of 200\n",
      "building tree 151 of 200\n",
      "building tree 152 of 200\n",
      "building tree 153 of 200\n",
      "building tree 154 of 200\n",
      "building tree 155 of 200\n",
      "building tree 156 of 200\n",
      "building tree 157 of 200\n",
      "building tree 158 of 200\n",
      "building tree 159 of 200\n",
      "building tree 160 of 200\n"
     ]
    },
    {
     "name": "stderr",
     "output_type": "stream",
     "text": [
      "[Parallel(n_jobs=2)]: Done 158 tasks      | elapsed: 11.9min\n"
     ]
    },
    {
     "name": "stdout",
     "output_type": "stream",
     "text": [
      "building tree 161 of 200\n",
      "building tree 162 of 200\n",
      "building tree 163 of 200\n",
      "building tree 164 of 200\n",
      "building tree 165 of 200\n",
      "building tree 166 of 200\n",
      "building tree 167 of 200\n",
      "building tree 168 of 200\n",
      "building tree 169 of 200\n",
      "building tree 170 of 200\n",
      "building tree 171 of 200\n",
      "building tree 172 of 200\n",
      "building tree 173 of 200\n",
      "building tree 174 of 200\n",
      "building tree 175 of 200\n",
      "building tree 176 of 200\n",
      "building tree 177 of 200\n",
      "building tree 178 of 200\n",
      "building tree 179 of 200\n",
      "building tree 180 of 200\n",
      "building tree 181 of 200\n",
      "building tree 182 of 200\n",
      "building tree 183 of 200\n",
      "building tree 184 of 200\n",
      "building tree 185 of 200\n",
      "building tree 186 of 200\n",
      "building tree 187 of 200\n",
      "building tree 188 of 200\n",
      "building tree 189 of 200\n",
      "building tree 190 of 200\n",
      "building tree 191 of 200\n",
      "building tree 192 of 200\n",
      "building tree 193 of 200\n",
      "building tree 194 of 200\n",
      "building tree 195 of 200\n",
      "building tree 196 of 200\n",
      "building tree 197 of 200\n",
      "building tree 198 of 200\n",
      "building tree 199 of 200\n",
      "building tree 200 of 200\n"
     ]
    },
    {
     "name": "stderr",
     "output_type": "stream",
     "text": [
      "[Parallel(n_jobs=2)]: Done 200 out of 200 | elapsed: 15.0min finished\n",
      "[Parallel(n_jobs=2)]: Using backend ThreadingBackend with 2 concurrent workers.\n",
      "[Parallel(n_jobs=2)]: Done  37 tasks      | elapsed:    1.0s\n",
      "[Parallel(n_jobs=2)]: Done 158 tasks      | elapsed:    3.3s\n",
      "[Parallel(n_jobs=2)]: Done 200 out of 200 | elapsed:    4.2s finished\n"
     ]
    }
   ],
   "source": [
    "from sklearn.ensemble import RandomForestClassifier\n",
    "clf = RandomForestClassifier(n_estimators = 200, n_jobs=2, verbose=2)\n",
    "clf.fit(X_train,y_train)\n",
    "pred = clf.predict(X_test)"
   ]
  },
  {
   "cell_type": "markdown",
   "metadata": {},
   "source": [
    "ใช้โมเดล RandomForest ในการสร้างโมเดล เนื่องจากเป็นโมเดลที่ทำประสิทธิภาพได้ดีในเกือบทุกสภาพแวดล้อมโดยที่ไม่จำเป็นต้อง tune โมเดล และวใช้เทคนิคอะไรมาก เพื่อความรวดเร็ว ถ้านำไปใช้จริงอาจจะต้อง tune parameters ด้วย gridsearch หรือใช้เทคนิคต่างๆเพื่อให้ประสิทธิภาพดีขึ้น"
   ]
  },
  {
   "cell_type": "markdown",
   "metadata": {},
   "source": [
    "### Validate Model"
   ]
  },
  {
   "cell_type": "markdown",
   "metadata": {},
   "source": [
    "#### accuracy"
   ]
  },
  {
   "cell_type": "code",
   "execution_count": 31,
   "metadata": {},
   "outputs": [
    {
     "data": {
      "text/plain": [
       "0.8671308639799044"
      ]
     },
     "execution_count": 31,
     "metadata": {},
     "output_type": "execute_result"
    }
   ],
   "source": [
    "accuracy_score(y_test, pred)"
   ]
  },
  {
   "cell_type": "markdown",
   "metadata": {},
   "source": [
    "โมเดลมีความแม่นยำในการทำนายถึง 86.71%"
   ]
  },
  {
   "cell_type": "markdown",
   "metadata": {},
   "source": [
    "#### Confusion Matrix"
   ]
  },
  {
   "cell_type": "code",
   "execution_count": 36,
   "metadata": {},
   "outputs": [
    {
     "name": "stdout",
     "output_type": "stream",
     "text": [
      "[[10751   292   551    71    29   275]\n",
      " [  912  4941   207   106    11   186]\n",
      " [  625    62  5299    45    44   222]\n",
      " [  342   146    97  3959    17   446]\n",
      " [  241    19   271    73  1252   233]\n",
      " [  250    84   120    41    12 13151]]\n"
     ]
    },
    {
     "data": {
      "image/png": "[encoded data removed]",
      "text/plain": [
       "<Figure size 576x576 with 2 Axes>"
      ]
     },
     "metadata": {
      "needs_background": "light"
     },
     "output_type": "display_data"
    }
   ],
   "source": [
    "import matplotlib.pyplot as plt\n",
    "labels = ['politics', 'crime','economy','entertain','IT','sports']\n",
    "# lables = [0,1,2,3,4,5]\n",
    "cm = confusion_matrix(y_test, pred)\n",
    "print(cm)\n",
    "fig = plt.figure(figsize=(8,8))\n",
    "ax = fig.add_subplot(111)\n",
    "cax = ax.matshow(cm)\n",
    "plt.title('Confusion matrix of the classifier')\n",
    "fig.colorbar(cax)\n",
    "ax.set_xticklabels([''] + labels)\n",
    "ax.set_yticklabels([''] + labels)\n",
    "plt.xlabel('Predicted')\n",
    "plt.ylabel('True')\n",
    "plt.show()"
   ]
  },
  {
   "cell_type": "markdown",
   "metadata": {},
   "source": [
    "จาก Confusion Matrix แสดงถึงจำนวนคลาสที่โมเดลทำนายผลออกมาได้ แกน Y แทนคลาสจริงที่ได้ Label แกน X แทนคลาสที่โมเดล predict ได้ ยิ่งมีคลาสเยอะจะยิ่งสว่างขึ้น และจะเห็นว่า กลุ่มของ sports มีการทำนายที่แม่นที่สุด แต่เรายังสรุปอย่างอื่นไม่ได้เนื่องจาก datasets ของเรามีจำนวนคลาสที่ไม่เท่ากัน (Imbalanced class) เช่น dataset ของเรามีข่าวไอที 10295 ข่าว และมีข่าวกีฬา 67790 ข่าว หรือคิดเป็นเพียง 5% ของข่าวทั้งหมด เราจึ้งต้องคำนวน Confusion Matrix ให้อยู่ในรูปเปอร์เซ็น"
   ]
  },
  {
   "cell_type": "code",
   "execution_count": 37,
   "metadata": {
    "scrolled": false
   },
   "outputs": [
    {
     "name": "stdout",
     "output_type": "stream",
     "text": [
      "[[0.89823711 0.0458903  0.08750199 0.01418015 0.01388224 0.02013472]\n",
      " [0.07619684 0.77652051 0.0328728  0.02117036 0.00526568 0.01361839]\n",
      " [0.05221823 0.00974383 0.84151183 0.00898742 0.02106271 0.01625421]\n",
      " [0.02857382 0.02294515 0.01540416 0.79069303 0.00813787 0.03265485]\n",
      " [0.02013535 0.00298601 0.04303637 0.01457959 0.59932982 0.0170596 ]\n",
      " [0.02088729 0.01320132 0.01905669 0.00818854 0.00574438 0.9628789 ]]\n"
     ]
    },
    {
     "data": {
      "image/png": "[encoded data removed]",
      "text/plain": [
       "<Figure size 576x576 with 2 Axes>"
      ]
     },
     "metadata": {
      "needs_background": "light"
     },
     "output_type": "display_data"
    }
   ],
   "source": [
    "import numpy as np\n",
    "cm = cm / cm.astype(np.float).sum(axis=1)\n",
    "print(cm)\n",
    "fig = plt.figure(figsize=(8,8))\n",
    "ax = fig.add_subplot(111)\n",
    "cax = ax.matshow(cm)\n",
    "plt.title('Confusion matrix of the classifier')\n",
    "fig.colorbar(cax)\n",
    "ax.set_xticklabels([''] + labels)\n",
    "ax.set_yticklabels([''] + labels)\n",
    "plt.xlabel('Predicted')\n",
    "plt.ylabel('True')\n",
    "plt.show()"
   ]
  },
  {
   "cell_type": "markdown",
   "metadata": {},
   "source": [
    "จาก Confusion matrix ที่คิดเป็นเปอร์เซ็นจะเห็นได้ว่าโมเดลสามารถทำนายข่าวการเมืองและข่าวกีฬาได้ถูกต้องกว่าทำนายอย่างอื่น และข่าว IT สามารถทำนายได้แย่ที่สุด ซึ่งเกิดจากข่าว IT มี data ที่น้อยที่สุดคิดเป็น 5% ของข่าวทั้งหมด ซึ่งอาจจะแก้ไขได้โดย\n",
    "- Tune parameters ของโมเดล หรืออาจใช้ Penalized Models และอาจจะใช้หลายๆชนิดของโมเดลมา voting กัน\n",
    "- ลบ Noise ของ data ออก เช่นลบ words ที่ไม่ค่อยได้ใช้ หรือใช้เยอะเป็นคำทั่วไปในภาษาไทย\n",
    "- เก็บ Data เพิ่ม <br>"
   ]
  },
  {
   "cell_type": "markdown",
   "metadata": {},
   "source": [
    "โดยรวมโมเดลสามารถทำประสิทธิภาพได้ดีมีความถูกต้อง 86.71% และมีความสมเหตุสมผล ซึ่งอาจจจะเห็นว่าโมเดลมีความผิดพลาดอยู่ แต่ว่าความผิดพลาดนั้นอาจจะไม่ได้มาจากโมเดลเพียงอย่างเดียว ซึ่งอาจจะมาจาก Data หรือ การ Label ของสำนักข่าวที่มาจากการทำงานหลายคน และไม่มีวิธีวัดการจัดหมวดหมู่ที่ชัดเจน ยกตัวอย่างเช่น \n",
    "- \"ครม. โยก สมชัย จากปลัดคลัง นั่งเลขาฯ สภาพัฒน์\" ที่สำนักข่าวได้จัดอยู่ใน ข่าวการเมือง แต่โมเดลทำนายว่า อยู่ในหมวดหมู่ข่าวเศรษฐกิจ \n",
    "- \"กำลังใจมาเต็ม โอ๊ค ยันไม่หนีคดีฟอกเงิน โพสต์เฟซฯ เย้ยเผด็จการ\" ซึ่งสำนักข่าวก็จัดให้อยู่ในข่าวการเมืองเช่นกัน แต่โมเดลทำนายว่าอยู่ในหมวดหมู่ข่าวอาชญากรรม"
   ]
  },
  {
   "cell_type": "markdown",
   "metadata": {},
   "source": [
    "ซึ่งก็ยังถือว่ามีความสมเหตุสมผลอยู่"
   ]
  },
  {
   "cell_type": "markdown",
   "metadata": {},
   "source": [
    "## Model testing"
   ]
  },
  {
   "cell_type": "markdown",
   "metadata": {},
   "source": [
    "ทดสอบการนำโมเดลไปใช้จริง โดยลองเทสกับข่าวที่อยู่คนละสำนักพิมพ์และกับที่นำข้อมูลมาเทรนและเป็นข้อมูลที่โมเดลไม่เคยเห็นมาก่อน และเป็นข่าวที่ใหม่กว่า"
   ]
  },
  {
   "cell_type": "code",
   "execution_count": 41,
   "metadata": {},
   "outputs": [
    {
     "name": "stdout",
     "output_type": "stream",
     "text": [
      "['บิ๊ก', 'ตู่', 'นิ้วมือ', 'ซ้น', 'แต่', 'ยัง', 'ฟิต', 'ลุย', 'ถก', 'ครม.', 'ต่อ', 'หลัง', 'บิน', 'กลับ', 'จาก', 'ญี่ปุ่น']\n",
      "['ครม.', 'โยก', 'สม', 'ชัย', 'จาก', 'ปลัด', 'คลัง', 'นั่ง', 'เลขาฯ', 'สภาพัฒน์']\n",
      "['กำลัง', 'ใจมา', 'เต็ม', 'โอ๊ค', 'ยัน', 'ไม่', 'หนี', 'คดี', 'ฟอกเงิน', 'โพสต์', 'เฟซฯ', 'เย้ย', 'เผด็จการ']\n",
      "['สื่อ', 'อังกฤษ', 'แฉ', 'แข้ง', 'แมนฯยู', 'ไม่พอใจ', 'โดน', 'เปลี่ยนตัว', 'เกม', 'ทุบ', 'นิวคาสเซิล']\n",
      "['กุนซือ', 'ดัตช์', 'ตำหนิ', 'ฟาน', 'ได', 'ค์', 'หลัง', 'เริ่ม', 'ฟอร์ม', 'หลุด']\n",
      "['ซี', 'ดาน', 'เล็ง', 'คว้า', 'แข้ง', 'จอม', 'บุก', 'บาร์', 'ซา', 'หาก', 'ได้', 'คุม', 'แมนฯยู']\n",
      "['เฟซ', 'บุ๊ก', 'ยอมรับ', 'อาจ', 'ส่ง', 'ผลเสีย', 'ต่อ', 'ผู้ใช้']\n",
      "['เบล', 'ล่า', 'โชว์', 'สเต็ป', 'เด้ง', 'กลางอากาศ', 'นุ่ง', 'กางเกง', 'แดง', 'เต้น', 'เพลง', 'เต่า', 'งอย', 'ฮา', 'มาก']\n"
     ]
    },
    {
     "name": "stderr",
     "output_type": "stream",
     "text": [
      "[Parallel(n_jobs=2)]: Using backend ThreadingBackend with 2 concurrent workers.\n",
      "[Parallel(n_jobs=2)]: Done  37 tasks      | elapsed:    0.0s\n",
      "[Parallel(n_jobs=2)]: Done 158 tasks      | elapsed:    0.0s\n",
      "[Parallel(n_jobs=2)]: Done 200 out of 200 | elapsed:    0.1s finished\n"
     ]
    },
    {
     "data": {
      "text/plain": [
       "array([0, 2, 1, 5, 5, 5, 4, 3])"
      ]
     },
     "execution_count": 41,
     "metadata": {},
     "output_type": "execute_result"
    }
   ],
   "source": [
    "s = ['บิ๊กตู่ นิ้วมือซ้น แต่ยังฟิต ลุยถก ครม.ต่อ หลังบินกลับจากญี่ปุ่น',\\\n",
    "     'ครม. โยก สมชัย จากปลัดคลัง นั่งเลขาฯ สภาพัฒน์'\\\n",
    "     ,'กำลังใจมาเต็ม โอ๊ค ยันไม่หนีคดีฟอกเงิน โพสต์เฟซฯ เย้ยเผด็จการ'\\\n",
    "     ,'สื่ออังกฤษแฉ! 2 แข้งแมนฯยูไม่พอใจ โดนเปลี่ยนตัวเกมทุบนิวคาสเซิล'\\\n",
    "    ,'กุนซือดัตช์ตำหนิ ฟาน ไดค์ หลังเริ่มฟอร์มหลุด'\\\n",
    "     ,'ซีดาน เล็งคว้าแข้งจอมบุกบาร์ซา หากได้คุมแมนฯยู'\\\n",
    "     ,'\"เฟซบุ๊ก\" ยอมรับอาจส่งผลเสียต่อผู้ใช้'\n",
    "    ,'เบลล่า โชว์สเต็ปเด้งกลางอากาศ นุ่งกางเกงแดง เต้นเพลง เต่างอย ฮามาก']\n",
    "\n",
    "for i in range(len(s)):\n",
    "    s[i] = s[i].replace(' ','')\n",
    "\n",
    "\n",
    "news_pre = preprocess_reviews(s) \n",
    "\n",
    "news_sample = []\n",
    "\n",
    "for i in range(len(s)):\n",
    "    proc = word_tokenize(news_pre[i], engine='newmm') #ใช้ตัดคำภาษาไทย เช่น ฉันกำลังขึ้นรถไฟ -> 'ฉัน','กำลัง','ขึ้น','รถไฟ'\n",
    "    print (proc)\n",
    "    news_sample.append(proc)\n",
    "\n",
    "news_sample = cv.transform(news_sample)\n",
    "clf.predict(news_sample)"
   ]
  },
  {
   "cell_type": "markdown",
   "metadata": {},
   "source": [
    "โมเดลสามารถทำงานได้อย่างถูกต้องและสมเหตุสมผล\n",
    "\n",
    "- 0 ข่าวการเมือง \n",
    "- 1 ข่าวอาชญากรรม\n",
    "- 2 ข่าวเศรษฐกิจ\n",
    "- 3 ข่าวบันเทิง\n",
    "- 4 ข่าวไอที\n",
    "- 5 ข่าวกีฬา"
   ]
  },
  {
   "cell_type": "markdown",
   "metadata": {},
   "source": [
    "## Conclusion"
   ]
  },
  {
   "cell_type": "markdown",
   "metadata": {},
   "source": [
    "- สามารถสร้างโมเดลที่แยกประเภทของข่าวได้โดยใช้การพาดหัว โดยแบ่งเป็น ข่าวการเมือง,ข่าวอาชญากรรม,ข่าวเศรษฐกิจ,ข่าวบันเทิง,ข่าวไอที และ ข่าวกีฬา  ซึ่งมีความแม่นยำ 86.71% โดยใช้\n",
    "- โมเดลมีความ generalize สามารถนำไปใช้กับข่าวที่เป็นข่าวใหม่และคนละสำนักข่าวได้  "
   ]
  },
  {
   "cell_type": "markdown",
   "metadata": {},
   "source": [
    "# Reference\n",
    "- http://scikit-learn.org/stable/modules/generated/sklearn.feature_extraction.text.CountVectorizer.html#sklearn.feature_extraction.text.CountVectorizer.decode\n",
    "- https://towardsdatascience.com/sentiment-analysis-with-python-part-1-5ce197074184\n",
    "- https://stackoverflow.com/questions/18262293/how-to-open-every-file-in-a-folder\n",
    "- https://www.pythonforbeginners.com/files/reading-and-writing-files-in-python"
   ]
  }
 ],
 "metadata": {
  "kernelspec": {
   "display_name": "Python 3",
   "language": "python",
   "name": "python3"
  },
  "language_info": {
   "codemirror_mode": {
    "name": "ipython",
    "version": 3
   },
   "file_extension": ".py",
   "mimetype": "text/x-python",
   "name": "python",
   "nbconvert_exporter": "python",
   "pygments_lexer": "ipython3",
   "version": "3.6.6"
  }
 },
 "nbformat": 4,
 "nbformat_minor": 2
}
